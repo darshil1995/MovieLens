{
 "cells": [
  {
   "cell_type": "markdown",
   "id": "3915e88d12d3b194",
   "metadata": {},
   "source": [
    "# Exploring the MovieLens Dataset with `pySpark`"
   ]
  },
  {
   "cell_type": "markdown",
   "id": "8860ccb4a653a175",
   "metadata": {},
   "source": [
    "*Apache Spark* is a popular framework for big data. It supports a wide variety of data analytics tasks including data cleaning, stream processing, and machine learning. It can be used to perform large and parallel computations, performing calculations on a single laptop or a cluster of computers. This makes it a useful tool when the data gets too large for `pandas` to handle. Spark can be accessed in Scala, its native API, as well as in Python, Java, R and SQL. In general the `DataFrame` API in Python should achieve the same performance as in Scala.\n",
    "\n",
    "This Jupyter Notebook will demonstrate how to get started using `pySpark` and the `DataFrame` API to perform some basic data analysis, including:\n",
    "- reading in data\n",
    "- performing aggregations and joins using the Spark SQL module\n",
    "- calculating summary statistics\n",
    "\n",
    "We will use the [MovieLens 20M Dataset](https://grouplens.org/datasets/movielens/) on movie ratings to find out:\n",
    "- What are the most popular movies?\n",
    "- What are the top rated movies?\n",
    "- Which movies are the most polarising?\n",
    "\n",
    "**Note**: This Notebook assumes that you have pySpark installed and configured to work with the Jupyter Notebook. The purpose of this Notebook is to demonstrate some basic Spark techniques rather than to provide an installation guide. For information on how to get pySpark running on the Jupyter Notebook, please refer to [this blog post](https://blog.sicara.com/get-started-pyspark-jupyter-guide-tutorial-ae2fe84f594f).\n",
    "\n",
    "\n",
    "**Note**: Dataset values can change with time as updation is donein kaggle\n",
    "\n"
   ]
  },
  {
   "cell_type": "code",
   "execution_count": 12,
   "id": "initial_id",
   "metadata": {
    "ExecuteTime": {
     "end_time": "2025-07-31T21:44:31.497594Z",
     "start_time": "2025-07-31T21:44:31.491462Z"
    },
    "collapsed": true,
    "jupyter": {
     "outputs_hidden": true
    }
   },
   "outputs": [],
   "source": [
    "import os\n",
    "import sys\n",
    "from pyspark import SparkContext\n",
    "from pyspark.sql import SparkSession\n",
    "from pyspark.sql.functions import *\n",
    "\n",
    "os.environ['PYSPARK_PYTHON'] = sys.executable\n",
    "os.environ['PYSPARK_DRIVER_PYTHON'] = sys.executable"
   ]
  },
  {
   "cell_type": "markdown",
   "id": "be35fcea0266ccd9",
   "metadata": {},
   "source": [
    "## Initialising Spark"
   ]
  },
  {
   "cell_type": "markdown",
   "id": "fc27f34c44ada123",
   "metadata": {},
   "source": [
    "To use Spark, we must first initialise a `SparkSession` or `SparkContext`. This is the entry point to using Spark in an application.\n"
   ]
  },
  {
   "cell_type": "code",
   "execution_count": 3,
   "id": "f26f9913cb267b2a",
   "metadata": {
    "ExecuteTime": {
     "end_time": "2025-07-31T21:30:56.012115Z",
     "start_time": "2025-07-31T21:30:55.386608Z"
    }
   },
   "outputs": [],
   "source": [
    "# Create Spark Context\n",
    "spark = SparkSession.builder.appName(\"MovieLens\").master(\"local[*]\").getOrCreate()"
   ]
  },
  {
   "cell_type": "markdown",
   "id": "e4aa9cc576db4e75",
   "metadata": {},
   "source": [
    "## Reading in the data"
   ]
  },
  {
   "cell_type": "markdown",
   "id": "73dbf5e52c96a508",
   "metadata": {},
   "source": [
    "The *MovieLens 20M* Dataset contains 20,000,263 ratings and 465,564 tag applications across 27,278 movies. The dataset was generated in 2016. All users in the dataset rated at least 20 movies.\n",
    "\n",
    "The dataset contains six CSV files. We will be using the **`movies`** and **`ratings`** files. Let's see what these two files look like.\n",
    "\n",
    "To read in a CSV file, we access the `DataFrameReader` class through `read` and then call the `csv()` method on it. We also specify `option(\"header\", \"true\")` so that the first row of the file is used for the column headers."
   ]
  },
  {
   "cell_type": "code",
   "execution_count": 4,
   "id": "292534e70ae833ed",
   "metadata": {
    "ExecuteTime": {
     "end_time": "2025-07-31T21:31:26.460545Z",
     "start_time": "2025-07-31T21:31:18.178025Z"
    }
   },
   "outputs": [],
   "source": [
    "movie_df = (spark.read\n",
    "            .format(\"csv\")\n",
    "            .option(\"header\", \"true\")\n",
    "            .option(\"inferSchema\", \"true\")\n",
    "            .option(\"path\", \"D:/Spark/RealTimeUseCases/ProjectData/ml-20m/ml-20m/movies.csv\")\n",
    "            .load())\n",
    "\n",
    "rating_df = (spark.read\n",
    "             .format(\"csv\")\n",
    "             .option(\"header\", \"true\")\n",
    "             .option(\"inferSchema\", \"true\")\n",
    "             .option(\"path\", \"D:/Spark/RealTimeUseCases/ProjectData/ml-20m/ml-20m/ratings.csv\")\n",
    "             .load())"
   ]
  },
  {
   "cell_type": "code",
   "execution_count": 5,
   "id": "7b8f6c7f00cbd389",
   "metadata": {
    "ExecuteTime": {
     "end_time": "2025-07-31T21:31:36.539659Z",
     "start_time": "2025-07-31T21:31:36.531442Z"
    }
   },
   "outputs": [
    {
     "name": "stdout",
     "output_type": "stream",
     "text": [
      "root\n",
      " |-- movieId: integer (nullable = true)\n",
      " |-- title: string (nullable = true)\n",
      " |-- genres: string (nullable = true)\n",
      "\n"
     ]
    }
   ],
   "source": [
    "movie_df.printSchema()"
   ]
  },
  {
   "cell_type": "markdown",
   "id": "9c36b0ff9b8c7cb8",
   "metadata": {},
   "source": [
    "Each row of the `ratings` DataFrame represents one rating for one movie (`movieId`) by one user (`userId`). The ratings use a 5-star scale with half-star increments from 0.5 stars up to 5.0 stars. We can print the DataFrame's column names and types using the `printSchema()` method."
   ]
  },
  {
   "cell_type": "code",
   "execution_count": 6,
   "id": "f1e77da0a7601849",
   "metadata": {
    "ExecuteTime": {
     "end_time": "2025-07-31T21:31:40.826825Z",
     "start_time": "2025-07-31T21:31:40.820122Z"
    }
   },
   "outputs": [
    {
     "name": "stdout",
     "output_type": "stream",
     "text": [
      "root\n",
      " |-- userId: integer (nullable = true)\n",
      " |-- movieId: integer (nullable = true)\n",
      " |-- rating: double (nullable = true)\n",
      " |-- timestamp: integer (nullable = true)\n",
      "\n"
     ]
    }
   ],
   "source": [
    "rating_df.printSchema()"
   ]
  },
  {
   "cell_type": "code",
   "execution_count": 7,
   "id": "66f003c8362cd6d8",
   "metadata": {
    "ExecuteTime": {
     "end_time": "2025-07-31T21:32:22.773041Z",
     "start_time": "2025-07-31T21:32:22.492327Z"
    }
   },
   "outputs": [
    {
     "name": "stdout",
     "output_type": "stream",
     "text": [
      "+-------+--------------------+--------------------+\n",
      "|movieId|               title|              genres|\n",
      "+-------+--------------------+--------------------+\n",
      "|      1|    Toy Story (1995)|Adventure|Animati...|\n",
      "|      2|      Jumanji (1995)|Adventure|Childre...|\n",
      "|      3|Grumpier Old Men ...|      Comedy|Romance|\n",
      "|      4|Waiting to Exhale...|Comedy|Drama|Romance|\n",
      "|      5|Father of the Bri...|              Comedy|\n",
      "+-------+--------------------+--------------------+\n",
      "only showing top 5 rows\n",
      "\n"
     ]
    }
   ],
   "source": [
    "movie_df.show(5)"
   ]
  },
  {
   "cell_type": "markdown",
   "id": "1831a38268ba51b6",
   "metadata": {},
   "source": [
    "Each row of the `movies` DataFrame represents one movie and its title and genre(s), indexed by the key `movieId`. We will use this DataFrame to get the movie titles out so we know which movie the ratings in the `ratings` DataFrame are actually referring to."
   ]
  },
  {
   "cell_type": "markdown",
   "id": "30cf6d7aaa9f3ca6",
   "metadata": {},
   "source": [
    "## Most popular movies"
   ]
  },
  {
   "cell_type": "markdown",
   "id": "7315b47a2582dedd",
   "metadata": {},
   "source": [
    "To get the most popular movies, we are looking for the movies with the highest number of ratings (we use the number of ratings as a proxy for the number of views). To do this, we will perform the following *transformations* on the `ratings` DataFrame:\n",
    "- group by `movieId`\n",
    "- count the number of users (`userId`) associated with each movie\n",
    "- rename this column to `num_ratings`\n",
    "- sort by `num_ratings` in descending order\n",
    "\n",
    "In the next cell, we perform these transformations in `pySpark` and store the DataFrame as `most_popular`."
   ]
  },
  {
   "cell_type": "code",
   "execution_count": 8,
   "id": "55a225c251292081",
   "metadata": {
    "ExecuteTime": {
     "end_time": "2025-07-31T21:36:07.893746Z",
     "start_time": "2025-07-31T21:36:07.783445Z"
    }
   },
   "outputs": [],
   "source": [
    "most_popular = rating_df \\\n",
    "    .groupBy(\"movieId\") \\\n",
    "    .agg(count(\"userId\")) \\\n",
    "    .withColumnRenamed(\"count(userId)\", \"num_ratings\") \\\n",
    "    .sort(desc(\"num_ratings\"))"
   ]
  },
  {
   "cell_type": "markdown",
   "id": "f3bf430ae05b9f40",
   "metadata": {},
   "source": [
    "The DataFrame methods we have used here are:\n",
    "- `groupBy` - groups the DataFrame by the given column\n",
    "- `agg` - allows us to perform an aggregate calculation on grouped data (this can be a built-in aggregation function such as *count* or a user defined function)\n",
    "- `withColumnRenamed` - renames an existing column with a new column name\n",
    "- `sort` - sorts by the specified column(s)\n",
    "\n",
    "Because transformations are *lazy* in Spark, the transformations above aren't performed until we call an *action*, such as `show()`, `take()`, or `collect()`."
   ]
  },
  {
   "cell_type": "code",
   "execution_count": 9,
   "id": "4ea93f33d1db3b94",
   "metadata": {
    "ExecuteTime": {
     "end_time": "2025-07-31T21:36:31.982366Z",
     "start_time": "2025-07-31T21:36:27.021315Z"
    }
   },
   "outputs": [
    {
     "name": "stdout",
     "output_type": "stream",
     "text": [
      "+-------+-----------+\n",
      "|movieId|num_ratings|\n",
      "+-------+-----------+\n",
      "|    296|      67310|\n",
      "|    356|      66172|\n",
      "|    318|      63366|\n",
      "|    593|      63299|\n",
      "|    480|      59715|\n",
      "+-------+-----------+\n",
      "only showing top 5 rows\n",
      "\n"
     ]
    }
   ],
   "source": [
    "most_popular.show(5)"
   ]
  },
  {
   "cell_type": "markdown",
   "id": "2db480c9c82314b3",
   "metadata": {},
   "source": [
    "This DataFrame contains only the `movieId` and `num_ratings`. The actual title of the movie is stored in the `movies` DataFrame. To get the movie titles, we can join our `most_popular` DataFrame with the `movies` DataFrame on `movieId`. By default, `join` performs an inner join which is what we want in this case."
   ]
  },
  {
   "cell_type": "code",
   "execution_count": 11,
   "id": "e90db5c7f0499b88",
   "metadata": {
    "ExecuteTime": {
     "end_time": "2025-07-31T21:42:22.591920Z",
     "start_time": "2025-07-31T21:42:18.488461Z"
    }
   },
   "outputs": [
    {
     "name": "stdout",
     "output_type": "stream",
     "text": [
      "+-------+-----------+--------------------+--------------------+\n",
      "|movieId|num_ratings|               title|              genres|\n",
      "+-------+-----------+--------------------+--------------------+\n",
      "|    296|      67310| Pulp Fiction (1994)|Comedy|Crime|Dram...|\n",
      "|    356|      66172| Forrest Gump (1994)|Comedy|Drama|Roma...|\n",
      "|    318|      63366|Shawshank Redempt...|         Crime|Drama|\n",
      "|    593|      63299|Silence of the La...|Crime|Horror|Thri...|\n",
      "|    480|      59715|Jurassic Park (1993)|Action|Adventure|...|\n",
      "+-------+-----------+--------------------+--------------------+\n",
      "only showing top 5 rows\n",
      "\n"
     ]
    }
   ],
   "source": [
    "# Join most_popular with movies on movieId\n",
    "most_popular_with_titles = most_popular.join(movie_df, on=\"movieId\", how=\"inner\")\n",
    "\n",
    "# Select relevant columns and sort by number of ratings\n",
    "most_popular_with_titles = most_popular_with_titles.select(\"movieId\", \"num_ratings\", \"title\", \"genres\") \\\n",
    "    .orderBy(desc(\"num_ratings\"))\n",
    "\n",
    "# Show top results\n",
    "most_popular_with_titles.show(5)"
   ]
  },
  {
   "cell_type": "markdown",
   "id": "f56b92b52fb7e55a",
   "metadata": {},
   "source": [
    "We now have a list of the most popular (or most rated) movies on the *MovieLens* website. As expected, the titles listed here are indeed all well-known movies."
   ]
  },
  {
   "cell_type": "markdown",
   "id": "4880d636f8b96003",
   "metadata": {},
   "source": [
    "## Top rated movies"
   ]
  },
  {
   "cell_type": "markdown",
   "id": "23b0541ed9e5fab8",
   "metadata": {},
   "source": [
    "We've got the top 10 most popular movies, but now we want to see which movies are perceived to be the best. To get the top rated movies, we are looking for the movies with the highest average rating. To do this, we will use the `ratings` DataFrame and:\n",
    "\n",
    "- group by `movieId`\n",
    "- calculate the average rating for each movie\n",
    "- rename this column to `avg_rating`\n",
    "- sort by `avg_rating` in descending order"
   ]
  },
  {
   "cell_type": "code",
   "execution_count": 13,
   "id": "3c8dd3a3760a510d",
   "metadata": {
    "ExecuteTime": {
     "end_time": "2025-07-31T21:49:36.795483Z",
     "start_time": "2025-07-31T21:49:36.739419Z"
    }
   },
   "outputs": [],
   "source": [
    "from pyspark.sql.functions import avg, desc\n",
    "\n",
    "# Step 1: Group by movieId and calculate average rating\n",
    "top_rated = rating_df.groupBy(\"movieId\") \\\n",
    "    .agg(avg(\"rating\").alias(\"avg_rating\"))\n",
    "\n",
    "# Step 2: Sort by average rating in descending order\n",
    "top_rated = top_rated.orderBy(desc(\"avg_rating\"))\n"
   ]
  },
  {
   "cell_type": "markdown",
   "id": "52690ee1d505fbaa",
   "metadata": {},
   "source": [
    "We will again join this DataFrame with the `movies` DataFrame so we know which movie each `movieId` is referring to."
   ]
  },
  {
   "cell_type": "code",
   "execution_count": 16,
   "id": "e8ea2dcf2b479625",
   "metadata": {
    "ExecuteTime": {
     "end_time": "2025-07-31T21:52:51.619713Z",
     "start_time": "2025-07-31T21:52:47.615013Z"
    }
   },
   "outputs": [
    {
     "name": "stdout",
     "output_type": "stream",
     "text": [
      "+-------+--------------------+----------+--------------------+\n",
      "|movieId|               title|avg_rating|              genres|\n",
      "+-------+--------------------+----------+--------------------+\n",
      "| 129530|Slingshot Hip Hop...|       5.0|  (no genres listed)|\n",
      "| 130996|The Beautiful Sto...|       5.0|Adventure|Drama|F...|\n",
      "| 130644|The Garden of Sin...|       5.0|           Animation|\n",
      "| 129295|A Gun for Jennife...|       5.0|Crime|Drama|Thriller|\n",
      "| 112790|Going Down in LA-...|       5.0|Comedy|Drama|Romance|\n",
      "+-------+--------------------+----------+--------------------+\n",
      "only showing top 5 rows\n",
      "\n"
     ]
    }
   ],
   "source": [
    "top_rated_with_titles = top_rated.join(movie_df, on=\"movieId\", how=\"inner\") \\\n",
    "    .select(\"movieId\", \"title\", \"avg_rating\", \"genres\") \\\n",
    "    .orderBy(desc(\"avg_rating\"))\n",
    "\n",
    "top_rated_with_titles.show(5)\n"
   ]
  },
  {
   "cell_type": "markdown",
   "id": "2924bc076ae1dbe2",
   "metadata": {},
   "source": [
    "The movies listed here appear to be quite niche. We want to focus on top rated movies that also have a decent number of ratings, so want to take into account both the average rating *and* the number of ratings. We can easily create a DataFrame which has both of these columns by specifying multiple expressions within one `agg()` call."
   ]
  },
  {
   "cell_type": "code",
   "execution_count": 20,
   "id": "80329d06a4a13089",
   "metadata": {
    "ExecuteTime": {
     "end_time": "2025-07-31T21:56:58.755722Z",
     "start_time": "2025-07-31T21:56:54.693286Z"
    }
   },
   "outputs": [
    {
     "name": "stdout",
     "output_type": "stream",
     "text": [
      "+-------+--------------------+----------+-----------+--------------------+\n",
      "|movieId|               title|avg_rating|num_ratings|              genres|\n",
      "+-------+--------------------+----------+-----------+--------------------+\n",
      "|   3997|Dungeons & Dragon...|      2.07|       2047|   Adventure|Fantasy|\n",
      "|   1580|Men in Black (a.k...|      3.56|      35580|Action|Comedy|Sci-Fi|\n",
      "|   3918|Hellbound: Hellra...|      2.92|       1246|              Horror|\n",
      "|   2366|    King Kong (1933)|      3.55|       6627|Action|Adventure|...|\n",
      "|   3175| Galaxy Quest (1999)|      3.60|      13945|Adventure|Comedy|...|\n",
      "|   4519|Land Before Time,...|      3.25|       1936|Adventure|Animati...|\n",
      "|   1591|        Spawn (1997)|      2.62|       5255|Action|Adventure|...|\n",
      "|    471|Hudsucker Proxy, ...|      3.66|      11268|              Comedy|\n",
      "|  36525|Just Like Heaven ...|      3.48|       1169|Comedy|Fantasy|Ro...|\n",
      "|  44022|Ice Age 2: The Me...|      3.33|       2465|Adventure|Animati...|\n",
      "+-------+--------------------+----------+-----------+--------------------+\n",
      "only showing top 10 rows\n",
      "\n"
     ]
    }
   ],
   "source": [
    "# Step 1: Aggregate average rating and rating count per movie\n",
    "rating_stats = rating_df.groupBy(\"movieId\").agg(\n",
    "    avg(\"rating\").alias(\"avg_rating\"),\n",
    "    count(\"rating\").alias(\"num_ratings\")\n",
    ")\n",
    "\n",
    "# Step 2: Format avg_rating to 2 decimal places\n",
    "rating_stats = rating_stats.withColumn(\"avg_rating\", format_number(\"avg_rating\", 2))\n",
    "\n",
    "# Step 3: Join with movie titles\n",
    "rating_stats_with_titles = rating_stats.join(movie_df, on=\"movieId\") \\\n",
    "    .select(\"movieId\", \"title\", \"avg_rating\", \"num_ratings\", \"genres\")\n",
    "\n",
    "\n",
    "rating_stats_with_titles.show(10)\n"
   ]
  },
  {
   "cell_type": "markdown",
   "id": "a1dba66102d61ef3",
   "metadata": {},
   "source": [
    "We see that all of the movies with an average rating of exactly 5.0 have 2 or less ratings. We would like to only consider movies that have achieved some minimum number of ratings. To determine an appropriate threshold, we should investigate the distribution of `num_ratings`. We can do this by calculating some summary statistics within Spark."
   ]
  },
  {
   "cell_type": "code",
   "execution_count": 23,
   "id": "68f2a03b71833b26",
   "metadata": {
    "ExecuteTime": {
     "end_time": "2025-07-31T22:00:12.490773Z",
     "start_time": "2025-07-31T22:00:08.243102Z"
    }
   },
   "outputs": [
    {
     "name": "stdout",
     "output_type": "stream",
     "text": [
      "+-----------------+-----------+-----------+\n",
      "|      avg_ratings|min_ratings|max_ratings|\n",
      "+-----------------+-----------+-----------+\n",
      "|747.8411232425965|          1|      67310|\n",
      "+-----------------+-----------+-----------+\n",
      "\n"
     ]
    }
   ],
   "source": [
    "# Calculate average, minimum, and maximum of num_ratings\n",
    "\n",
    "rating_stats_summary = rating_stats.agg(\n",
    "    avg(\"num_ratings\").alias(\"avg_ratings\"),\n",
    "    min(\"num_ratings\").alias(\"min_ratings\"),\n",
    "    max(\"num_ratings\").alias(\"max_ratings\")\n",
    ")\n",
    "\n",
    "rating_stats_summary.show(10)"
   ]
  },
  {
   "cell_type": "markdown",
   "id": "fd995208913fa9e4",
   "metadata": {},
   "source": [
    "To calculate quantiles we use the `approxQuantile` method. This method can calculate the quantiles of the specified column approximately or exactly, depending on the value of the relative error parameter. If the relative error parameter is set to 0 then the quantiles are calculated exactly, however this can be expensive."
   ]
  },
  {
   "cell_type": "code",
   "execution_count": 24,
   "id": "698eba94ac125f8",
   "metadata": {
    "ExecuteTime": {
     "end_time": "2025-07-31T22:01:56.418934Z",
     "start_time": "2025-07-31T22:01:52.053595Z"
    }
   },
   "outputs": [
    {
     "name": "stdout",
     "output_type": "stream",
     "text": [
      "Median number of ratings: 18.0\n"
     ]
    }
   ],
   "source": [
    "# Calculate the median (50th percentile) of num_ratings\n",
    "median_num_ratings = rating_stats.approxQuantile(\"num_ratings\", [0.5], 0)\n",
    "\n",
    "# Display the result\n",
    "print(f\"Median number of ratings: {median_num_ratings[0]}\")\n"
   ]
  },
  {
   "cell_type": "code",
   "execution_count": 25,
   "id": "2707812ea8276642",
   "metadata": {
    "ExecuteTime": {
     "end_time": "2025-07-31T22:03:39.369094Z",
     "start_time": "2025-07-31T22:03:35.221564Z"
    }
   },
   "outputs": [
    {
     "name": "stdout",
     "output_type": "stream",
     "text": [
      "First quartile (Q1 - 25th percentile): 3.0\n"
     ]
    }
   ],
   "source": [
    "#First Quantile: Calculate 25th (Q1)\n",
    "\n",
    "first_quartile_ratings = rating_stats.approxQuantile(\"num_ratings\", [0.25], 0)\n",
    "print(f\"First quartile (Q1 - 25th percentile): {first_quartile_ratings[0]}\")\n"
   ]
  },
  {
   "cell_type": "code",
   "execution_count": 26,
   "id": "e3e863326ecf9113",
   "metadata": {
    "ExecuteTime": {
     "end_time": "2025-07-31T22:04:51.260288Z",
     "start_time": "2025-07-31T22:04:47.169272Z"
    }
   },
   "outputs": [
    {
     "name": "stdout",
     "output_type": "stream",
     "text": [
      "Second quartile (Q2 - 75th percentile): 205.0\n"
     ]
    }
   ],
   "source": [
    "#Second Quantile: Calculate 75th (Q2)\n",
    "\n",
    "second_quartile_ratings = rating_stats.approxQuantile(\"num_ratings\", [0.75], 0)\n",
    "print(f\"Second quartile (Q2 - 75th percentile): {second_quartile_ratings[0]}\")\n"
   ]
  },
  {
   "cell_type": "markdown",
   "id": "72ce281d8cf8417b",
   "metadata": {},
   "source": [
    "The mean is much greater than the median value, suggesting that this distribution is `skewed to the right`. We will choose a minimum threshold of 500 ratings, however there is no right or wrong answer here and the reader is encouraged to experiment with different values for this threshold."
   ]
  },
  {
   "cell_type": "code",
   "execution_count": 27,
   "id": "ed3d25b5ec0c4fd2",
   "metadata": {
    "ExecuteTime": {
     "end_time": "2025-07-31T22:07:49.050655Z",
     "start_time": "2025-07-31T22:07:44.414862Z"
    }
   },
   "outputs": [
    {
     "name": "stdout",
     "output_type": "stream",
     "text": [
      "+-------+--------------------+----------+-----------+--------------------+\n",
      "|movieId|               title|avg_rating|num_ratings|              genres|\n",
      "+-------+--------------------+----------+-----------+--------------------+\n",
      "|    318|Shawshank Redempt...|      4.45|      63366|         Crime|Drama|\n",
      "|    858|Godfather, The (1...|      4.36|      41355|         Crime|Drama|\n",
      "|     50|Usual Suspects, T...|      4.33|      47006|Crime|Mystery|Thr...|\n",
      "|    527|Schindler's List ...|      4.31|      50054|           Drama|War|\n",
      "|   1221|Godfather: Part I...|      4.28|      27398|         Crime|Drama|\n",
      "|    904|  Rear Window (1954)|      4.27|      17449|    Mystery|Thriller|\n",
      "|   2019|Seven Samurai (Sh...|      4.27|      11611|Action|Adventure|...|\n",
      "|    922|Sunset Blvd. (a.k...|      4.26|       6525|Drama|Film-Noir|R...|\n",
      "|   7502|Band of Brothers ...|      4.26|       4305|    Action|Drama|War|\n",
      "|    912|   Casablanca (1942)|      4.26|      24349|       Drama|Romance|\n",
      "+-------+--------------------+----------+-----------+--------------------+\n",
      "only showing top 10 rows\n",
      "\n"
     ]
    }
   ],
   "source": [
    "# Filter movies with at least 500 ratings as threshold\n",
    "popular_and_rated = rating_stats.filter(\"num_ratings >= 500\")\n",
    "\n",
    "# Optionally join with titles\n",
    "popular_and_top_rated_with_titles = popular_and_rated.join(movie_df, on=\"movieId\")\\\n",
    "                                                 .select(\"movieId\", \"title\", \"avg_rating\", \"num_ratings\", \"genres\")\n",
    "\n",
    "# Show top results\n",
    "popular_and_top_rated_with_titles.orderBy(\"avg_rating\", ascending=False).show(10)\n"
   ]
  },
  {
   "cell_type": "markdown",
   "id": "59715437d4ce873e",
   "metadata": {},
   "source": [
    "We've now gotten a list of the top rated movies on MovieLens, which includes the usual movies considered to be all time greats such as *The Shawshank Redemption* and *Casablanca*. Interestingly, nearly all of these movies appear in the [top 100 of the IMDb top rated movies list](https://www.imdb.com/chart/top) as well, with the exception of the *The Third Man* (listed as #135) and *Band of Brothers* which is technically a TV series rather than a movie.\n",
    "\n",
    "What's also interesting is that this list of movies is not the same as the list of the most popular movies. *The Shawshank Redemption*, *Schindler's List*, and *The Usual Suspects* were all popular movies which also appear in this list. However, other movies such as *Pulp Fiction*, *Forrest Gump*, and *The Silence of the Lambs* made the top 10 most popular but not the top 10 (or even top 20) most rated. This suggests that some movies actually divide opinion."
   ]
  },
  {
   "cell_type": "markdown",
   "id": "82165f42761627e6",
   "metadata": {},
   "source": [
    "## Most polarising movies (Marmite movies)"
   ]
  },
  {
   "cell_type": "markdown",
   "id": "cb82b7c8e7fddd96",
   "metadata": {},
   "source": [
    "Next, we will try to answer the question, *What are the most polarising movies*? These are the movies that divide opinon, with people tending to rate them either really highly or really poorly. We will refer to these as *Marmite* movies. Again, we only want to consider movies that achieve some minimum number of ratings - we will stick with our previous threshold of 500 ratings.\n",
    "\n",
    "To approach this, we will look for the movies with the highest standard deviation in rating. This is a measure of how much the data varies from the mean, so in this case, how much a movie's ratings vary around its mean rating. A high standard deviation would suggest that the movie's ratings are highly variable. There are other approaches to this as well, for instance, what proportion of the ratings are very positive or very negative."
   ]
  },
  {
   "cell_type": "code",
   "execution_count": 33,
   "id": "8cb62ed418a15532",
   "metadata": {
    "ExecuteTime": {
     "end_time": "2025-07-31T22:17:23.720531Z",
     "start_time": "2025-07-31T22:17:23.658339Z"
    }
   },
   "outputs": [],
   "source": [
    "# Step 1: Aggregate average rating, number of ratings, and standard deviation\n",
    "\n",
    "rating_variability = rating_df.groupBy(\"movieId\").agg(\n",
    "    avg(\"rating\").alias(\"avg_rating\"),\n",
    "    count(\"rating\").alias(\"num_ratings\"),\n",
    "    stddev(\"rating\").alias(\"stddev_ratings\")\n",
    ")\n",
    "\n",
    "rating_variability =rating_variability.withColumn(\"stddev_ratings\", format_number(\"stddev_ratings\", 2))\\\n",
    "    .withColumn(\"avg_rating\", format_number(\"avg_rating\", 2))\n"
   ]
  },
  {
   "cell_type": "code",
   "execution_count": 34,
   "id": "aa32fb610e733762",
   "metadata": {
    "ExecuteTime": {
     "end_time": "2025-07-31T22:17:25.518862Z",
     "start_time": "2025-07-31T22:17:25.508777Z"
    }
   },
   "outputs": [],
   "source": [
    "# Step 2: Filter for movies with at least 500 ratings threshold\n",
    "\n",
    "polarizing_candidates = rating_variability.filter(\"num_ratings >= 500\")"
   ]
  },
  {
   "cell_type": "code",
   "execution_count": 36,
   "id": "96ab8cf100321849",
   "metadata": {
    "ExecuteTime": {
     "end_time": "2025-07-31T22:18:44.693985Z",
     "start_time": "2025-07-31T22:18:40.669579Z"
    }
   },
   "outputs": [
    {
     "name": "stdout",
     "output_type": "stream",
     "text": [
      "+-------+--------------------+----------+-----------+--------------+--------------------+\n",
      "|movieId|               title|avg_rating|num_ratings|stddev_ratings|              genres|\n",
      "+-------+--------------------+----------+-----------+--------------+--------------------+\n",
      "|   3997|Dungeons & Dragon...|      2.07|       2047|          1.11|   Adventure|Fantasy|\n",
      "|   1580|Men in Black (a.k...|      3.56|      35580|          0.90|Action|Comedy|Sci-Fi|\n",
      "|   3918|Hellbound: Hellra...|      2.92|       1246|          1.13|              Horror|\n",
      "|   2366|    King Kong (1933)|      3.55|       6627|          1.06|Action|Adventure|...|\n",
      "|   3175| Galaxy Quest (1999)|      3.60|      13945|          0.96|Adventure|Comedy|...|\n",
      "|   4519|Land Before Time,...|      3.25|       1936|          0.99|Adventure|Animati...|\n",
      "|   1591|        Spawn (1997)|      2.62|       5255|          1.09|Action|Adventure|...|\n",
      "|    471|Hudsucker Proxy, ...|      3.66|      11268|          0.93|              Comedy|\n",
      "|  36525|Just Like Heaven ...|      3.48|       1169|          0.90|Comedy|Fantasy|Ro...|\n",
      "|  44022|Ice Age 2: The Me...|      3.33|       2465|          0.91|Adventure|Animati...|\n",
      "|   2866|Buddy Holly Story...|      3.61|       1407|          0.78|               Drama|\n",
      "|   1645|Devil's Advocate,...|      3.48|      11458|          0.96|Drama|Mystery|Thr...|\n",
      "|   5803|        I Spy (2002)|      2.77|       1046|          0.96|Action|Adventure|...|\n",
      "|  54190|Across the Univer...|      3.67|       1687|          1.02|Drama|Fantasy|Mus...|\n",
      "|   1088|Dirty Dancing (1987)|      3.21|      11013|          1.13|Drama|Musical|Rom...|\n",
      "+-------+--------------------+----------+-----------+--------------+--------------------+\n",
      "only showing top 15 rows\n",
      "\n"
     ]
    }
   ],
   "source": [
    "# Step 3: Join with movie titles\n",
    "polarizing_movies = polarizing_candidates.join(movie_df, on=\"movieId\")\\\n",
    "    .select(\"movieId\", \"title\", \"avg_rating\", \"num_ratings\", \"stddev_ratings\",\"genres\")\n",
    "\n",
    "polarizing_movies.orderBy(\"stddev_ratings\", ascending=False)\n",
    "\n",
    "polarizing_movies.show(15)"
   ]
  },
  {
   "cell_type": "markdown",
   "id": "847248eccad758b7",
   "metadata": {},
   "source": [
    "## Conclusion"
   ]
  },
  {
   "cell_type": "markdown",
   "id": "76636a658e0e7405",
   "metadata": {},
   "source": [
    "This tutorial has demonstrated how to use the `pySpark DataFrame` API to perform some simple data analysis tasks. In particular, we have seen how to perform aggregations, joins, and compute summary statistics on large datasets. There is a lot more that could be done with this dataset, including investigating other ways to identify polarising movies, looking at the effect of movie genres, and building a recommender system. Note that when working in `pySpark`, it may useful to refer back to the [official pySpark documentation](https://spark.apache.org/docs/latest/api/python/pyspark.html)."
   ]
  }
 ],
 "metadata": {
  "kernelspec": {
   "display_name": "Python 3 (ipykernel)",
   "language": "python",
   "name": "python3"
  },
  "language_info": {
   "codemirror_mode": {
    "name": "ipython",
    "version": 3
   },
   "file_extension": ".py",
   "mimetype": "text/x-python",
   "name": "python",
   "nbconvert_exporter": "python",
   "pygments_lexer": "ipython3",
   "version": "3.11.9"
  }
 },
 "nbformat": 4,
 "nbformat_minor": 5
}
